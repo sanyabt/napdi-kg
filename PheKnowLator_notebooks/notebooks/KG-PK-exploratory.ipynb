{
 "cells": [
  {
   "cell_type": "code",
   "execution_count": 1,
   "id": "183c9b29-1f03-4df4-8c97-f1e00e795001",
   "metadata": {},
   "outputs": [],
   "source": [
    "import os\n",
    "import os.path\n",
    "import networkx as nx\n",
    "import json\n",
    "import urllib\n",
    "import traceback\n",
    "from itertools import islice\n",
    "from rdflib import Graph, URIRef, BNode, Namespace, Literal\n",
    "from rdflib.namespace import RDF, OWL\n",
    "from tqdm import tqdm\n",
    "import json\n",
    "import hashlib"
   ]
  },
  {
   "cell_type": "code",
   "execution_count": 2,
   "id": "c38eff6d-f8ce-4446-85ab-bde5fee9bdb9",
   "metadata": {},
   "outputs": [],
   "source": [
    "import pickle\n",
    "import pandas as pd\n",
    "import numpy as np"
   ]
  },
  {
   "cell_type": "code",
   "execution_count": 3,
   "id": "c8cefdb1-67a9-46be-83be-b7658d7e783c",
   "metadata": {},
   "outputs": [],
   "source": [
    "#import pheknowlator kg_utils \n",
    "import sys\n",
    "sys.path.append('../')\n",
    "from pkt_kg.utils import *"
   ]
  },
  {
   "cell_type": "code",
   "execution_count": 4,
   "id": "86553713-70bd-4ba9-92ab-18e49fdba7cf",
   "metadata": {},
   "outputs": [],
   "source": [
    "KG_PATH = '/home/sanya/PheKnowLatorv2/resources/knowledge_graphs/'\n",
    "MR_PATH = '/home/sanya/PheKnowLatorv2/machine_read/output_graphs/'\n",
    "KG_NAME = 'PheKnowLator_v3.0.0_full_instance_inverseRelations_OWLNETS_NetworkxMultiDiGraph.gpickle'\n",
    "#MR_GRAPH_NAME = 'machineread_greentea_version1.gpickle'\n",
    "MR_GRAPH_NAME_GT = 'machineread_greentea_version2.gpickle'\n",
    "MR_GRAPH_NAME_KT = 'machineread_kratom_version1.gpickle'\n",
    "NodeLabelsFilePL = 'PheKnowLator_v3.0.0_full_instance_inverseRelations_OWLNETS_NodeLabels.txt'\n",
    "NodeLabelsFileMR_gt = 'machineread_greentea_version2_NodeLabels.tsv'\n",
    "NodeLabelsFileMR_kt = 'machineread_kratom_version1_NodeLabels.tsv'"
   ]
  },
  {
   "cell_type": "code",
   "execution_count": 5,
   "id": "602dd2cc-23a7-4959-be34-0ce697fd0879",
   "metadata": {},
   "outputs": [],
   "source": [
    "with open(KG_PATH+'nodeLabels_20211014.pickle', 'rb') as filep:\n",
    "    nodeLabels = pickle.load(filep)"
   ]
  },
  {
   "cell_type": "code",
   "execution_count": 6,
   "id": "5d570f95-1bfd-4a24-9809-28400ff63f98",
   "metadata": {},
   "outputs": [],
   "source": [
    "pl_kg = nx.read_gpickle(KG_PATH+KG_NAME)"
   ]
  },
  {
   "cell_type": "code",
   "execution_count": 7,
   "id": "6baf55fc-40f2-4c39-bf6c-f54a199c2fba",
   "metadata": {},
   "outputs": [],
   "source": [
    "mr_kg = nx.read_gpickle(MR_PATH+MR_GRAPH_NAME_GT)\n",
    "mr_kg2 = nx.read_gpickle(MR_PATH+MR_GRAPH_NAME_KT)"
   ]
  },
  {
   "cell_type": "code",
   "execution_count": 8,
   "id": "4517430d-8ede-467c-934b-c896414b99b0",
   "metadata": {},
   "outputs": [],
   "source": [
    "nx_graph = nx.compose_all([pl_kg, mr_kg, mr_kg2])"
   ]
  },
  {
   "cell_type": "code",
   "execution_count": 9,
   "id": "1c17b2c8-0ef9-45b4-bf91-0a4bc1294896",
   "metadata": {},
   "outputs": [],
   "source": [
    "DIR_OUT = '/home/sanya/PheKnowLatorv2/output_files/'\n",
    "obo = Namespace('http://purl.obolibrary.org/obo/')\n",
    "napdi = Namespace('http://napdi.org/napdi_srs_imports:')"
   ]
  },
  {
   "cell_type": "code",
   "execution_count": 10,
   "id": "b4247f66-9ff8-479c-8c48-33ba6fccdee5",
   "metadata": {},
   "outputs": [],
   "source": [
    "epicatechin = obo.CHEBI_90\n",
    "catechin = obo.CHEBI_23053\n",
    "egcg = obo.CHEBI_4806\n",
    "greentea = napdi.camellia_sinensis_leaf\n",
    "ecg = obo.CHEBI_70255\n",
    "gallocatechin = obo.CHEBI_68330\n",
    "\n",
    "#metformin\n",
    "#diclofenac\n",
    "midazolam = obo.CHEBI_6931\n",
    "#dopamine\n",
    "raloxifene = obo.CHEBI_8772\n",
    "#amodiaquine\n",
    "#bupripion\n",
    "dextromethorphan = obo.CHEBI_4470\n",
    "#digoxin\n",
    "#atorvastatin\n",
    "nadolol = obo.CHEBI_7444\n",
    "#caffeine\n",
    "#losartan\n",
    "buspirone = obo.CHEBI_3223\n",
    "#alprazolam\n",
    "\n",
    "mitragynine = obo.CHEBI_6956\n",
    "kratom = napdi.mitragyna_speciosa\n",
    "hydroxy_mitragynine = napdi['7_hydroxy_mitragynine']\n",
    "\n",
    "CYP3A4 = obo.PR_P08684\n",
    "CYP2D6 = obo.PR_P10635\n",
    "CYP2C19 = obo.PR_P33261\n",
    "UGT1A1_protein = obo.PR_P22309\n",
    "UGT1A8_protein = obo.PR_Q9HAW9\n",
    "UGT1A10_protein = obo.PR_Q9HAW8"
   ]
  },
  {
   "cell_type": "code",
   "execution_count": 57,
   "id": "80866cca-6abe-46eb-a759-d8e9158f341c",
   "metadata": {},
   "outputs": [
    {
     "data": {
      "text/plain": [
       "[rdflib.term.URIRef('http://purl.obolibrary.org/obo/CHEBI_90'),\n",
       " rdflib.term.URIRef('http://purl.obolibrary.org/obo/CHEBI_68330'),\n",
       " rdflib.term.URIRef('http://napdi.org/napdi_srs_imports:camellia_sinensis_whole'),\n",
       " rdflib.term.URIRef('http://purl.obolibrary.org/obo/PO_0025131'),\n",
       " rdflib.term.URIRef('http://napdi.org/napdi_srs_imports:epigallocatechin_gallate'),\n",
       " rdflib.term.URIRef('http://purl.obolibrary.org/obo/CHEBI_42255'),\n",
       " rdflib.term.URIRef('http://purl.obolibrary.org/obo/CHEBI_70255')]"
      ]
     },
     "execution_count": 57,
     "metadata": {},
     "output_type": "execute_result"
    }
   ],
   "source": [
    "#get neighboring edges of the nodes\n",
    "#get direct or indirect paths from NPs, NP constituents and drugs to enzymes\n",
    "list(nx_graph.neighbors(greentea))\n",
    "####catechin should also be in neighbors"
   ]
  },
  {
   "cell_type": "code",
   "execution_count": 67,
   "id": "6efb9dae-5e22-4247-9b1e-5273cfb8ced4",
   "metadata": {},
   "outputs": [
    {
     "name": "stdout",
     "output_type": "stream",
     "text": [
      "http://napdi.org/napdi-srs-imports:camellia_sinensis_leaf\n"
     ]
    }
   ],
   "source": [
    "x = list(nx_graph.neighbors(catechin))\n",
    "for item in x:\n",
    "    if 'napdi' in str(item):\n",
    "        print(item)"
   ]
  },
  {
   "cell_type": "code",
   "execution_count": 31,
   "id": "313e07ec-fb09-441b-bd89-0fd1eb9b1e65",
   "metadata": {},
   "outputs": [],
   "source": [
    "def get_neighbors(nx_graph, node):\n",
    "    neighs = nx.neighbors(nx_graph, node)\n",
    "    neighs_list = []\n",
    "    for item in neighs:\n",
    "        nodestr = nodeLabels[str(node)]\n",
    "        neighbor = nodeLabels[str(item)]\n",
    "        edge_keys = list(nx_graph.get_edge_data(node, item).keys())\n",
    "        for edge in edge_keys:\n",
    "            edgestr = nodeLabels[str(edge)]\n",
    "            neighs_list.append((nodestr, edgestr, neighbor))\n",
    "    return neighs_list"
   ]
  },
  {
   "cell_type": "code",
   "execution_count": null,
   "id": "f39f28d2-d7d4-404f-a48d-6984002d1316",
   "metadata": {},
   "outputs": [],
   "source": []
  },
  {
   "cell_type": "code",
   "execution_count": 32,
   "id": "e282c14a-b7a3-41ad-917e-3cd087921546",
   "metadata": {},
   "outputs": [],
   "source": [
    "x = get_neighbors(nx_graph, greentea)"
   ]
  },
  {
   "cell_type": "code",
   "execution_count": 34,
   "id": "9feb8578-156f-4d06-b564-3fcd6df48ae2",
   "metadata": {},
   "outputs": [
    {
     "data": {
      "text/plain": [
       "[('Camellia_sinensis_leaf', 'has component', '(-)-epicatechin'),\n",
       " ('Camellia_sinensis_leaf', 'has component', 'gallocatechin'),\n",
       " ('Camellia_sinensis_leaf', 'part of', 'Camellia_sinensis_whole'),\n",
       " ('Camellia_sinensis_leaf', 'subClassOf', 'plant anatomical entity'),\n",
       " ('Camellia_sinensis_leaf', 'has component', '(-)-epigallocatechin gallate'),\n",
       " ('Camellia_sinensis_leaf', 'has component', '(-)-epigallocatechin'),\n",
       " ('Camellia_sinensis_leaf', 'has component', '(-)-epicatechin-3-O-gallate')]"
      ]
     },
     "execution_count": 34,
     "metadata": {},
     "output_type": "execute_result"
    }
   ],
   "source": [
    "x"
   ]
  },
  {
   "cell_type": "code",
   "execution_count": 84,
   "id": "d5e326d0-bf00-43e3-a590-f18e5670fd05",
   "metadata": {},
   "outputs": [
    {
     "data": {
      "text/plain": [
       "[('Mitragyna_speciosa', 'has component', 'Mitragynine'),\n",
       " ('Mitragyna_speciosa', 'part of', 'Mitragyna_speciosa_whole'),\n",
       " ('Mitragyna_speciosa', 'has component', '7-hydroxy-mitragynine'),\n",
       " ('Mitragyna_speciosa', 'subClassOf', 'plant anatomical entity')]"
      ]
     },
     "execution_count": 84,
     "metadata": {},
     "output_type": "execute_result"
    }
   ],
   "source": [
    "get_neighbors(nx_graph, kratom)"
   ]
  },
  {
   "cell_type": "code",
   "execution_count": 85,
   "id": "6cc797c9-3738-4826-aa81-3793d4196df1",
   "metadata": {},
   "outputs": [
    {
     "name": "stdout",
     "output_type": "stream",
     "text": [
      "(-)-epicatechin\n",
      "gallocatechin\n",
      "Camellia_sinensis_whole\n",
      "plant anatomical entity\n",
      "(-)-epigallocatechin gallate\n",
      "(-)-epigallocatechin\n",
      "(-)-epicatechin-3-O-gallate\n"
     ]
    },
    {
     "data": {
      "text/plain": [
       "179"
      ]
     },
     "execution_count": 85,
     "metadata": {},
     "output_type": "execute_result"
    }
   ],
   "source": [
    "gtn = nx.neighbors(nx_graph, greentea)\n",
    "greentea_list = []\n",
    "for item in gtn:\n",
    "    print(nodeLabels[str(item)])\n",
    "    gtn_list = get_neighbors(nx_graph, item)\n",
    "    greentea_list.extend(gtn_list)\n",
    "len(greentea_list)"
   ]
  },
  {
   "cell_type": "code",
   "execution_count": 86,
   "id": "bf4efc60-6fc9-48ba-a837-43f5d60ffc6a",
   "metadata": {},
   "outputs": [],
   "source": [
    "rels = []\n",
    "greentea_data = {\n",
    "'(-)-epicatechin': [],\n",
    "'gallocatechin': [],\n",
    "'(-)-epigallocatechin gallate': [],\n",
    "'(-)-epigallocatechin': [],\n",
    "'(-)-epicatechin-3-O-gallate': []\n",
    "}\n",
    "for item in greentea_list:\n",
    "    if item[1] not in rels:\n",
    "        rels.append(item[1])\n",
    "    if item[0] in greentea_data:\n",
    "        greentea_data[item[0]].append(item)"
   ]
  },
  {
   "cell_type": "code",
   "execution_count": 87,
   "id": "38db0a10-d284-40e8-9a3f-269abb539de4",
   "metadata": {},
   "outputs": [
    {
     "name": "stdout",
     "output_type": "stream",
     "text": [
      "(-)-epicatechin\n",
      "68\n",
      "gallocatechin\n",
      "12\n",
      "(-)-epigallocatechin gallate\n",
      "1\n",
      "(-)-epigallocatechin\n",
      "7\n",
      "(-)-epicatechin-3-O-gallate\n",
      "87\n"
     ]
    }
   ],
   "source": [
    "for key in greentea_data:\n",
    "    print(key)\n",
    "    print(len(greentea_data[key]))"
   ]
  },
  {
   "cell_type": "code",
   "execution_count": 101,
   "id": "6adf56df-fc4d-4fc9-b2fd-1c39bc7eb67c",
   "metadata": {},
   "outputs": [
    {
     "name": "stdout",
     "output_type": "stream",
     "text": [
      "['is enantiomer of', 'subClassOf', 'has role', 'molecularly interacts with', 'directly negatively regulates activity of', 'IncreaseAmount', 'negatively regulates', 'Phosphorylation']\n"
     ]
    }
   ],
   "source": [
    "epirel = []\n",
    "for item in greentea_data['(-)-epicatechin']:\n",
    "    if item[1] not in epirel:\n",
    "        epirel.append(item[1])\n",
    "print(epirel)"
   ]
  },
  {
   "cell_type": "code",
   "execution_count": 103,
   "id": "9fe9c330-04ef-40ac-bf0d-3a2a0bb986fd",
   "metadata": {},
   "outputs": [],
   "source": [
    "epid = {\n",
    "    'is enantiomer of': [],\n",
    "    'subClassOf': [], \n",
    "    'has role': [],\n",
    "    'molecularly interacts with': [],\n",
    "    'directly negatively regulates activity of': [],\n",
    "    'IncreaseAmount': [],\n",
    "    'negatively regulates': [],\n",
    "    'Phosphorylation': []\n",
    "}\n",
    "for item in greentea_data['(-)-epicatechin']:\n",
    "    if item[1] in epid:\n",
    "        epid[item[1]].append(item[2])"
   ]
  },
  {
   "cell_type": "code",
   "execution_count": 112,
   "id": "f30a3b71-460e-4e57-8135-245cfd548202",
   "metadata": {},
   "outputs": [
    {
     "data": {
      "text/plain": [
       "['mitogen-activated protein kinase 3',\n",
       " 'voltage-gated potassium channel KCNH2',\n",
       " 'taurochenodeoxycholate 6alpha-hydroxylase activity',\n",
       " 'GRIA2_gene']"
      ]
     },
     "execution_count": 112,
     "metadata": {},
     "output_type": "execute_result"
    }
   ],
   "source": [
    "epid['IncreaseAmount']"
   ]
  },
  {
   "cell_type": "code",
   "execution_count": null,
   "id": "46df06f9-5769-404e-a2cc-b02f4de76f4b",
   "metadata": {},
   "outputs": [],
   "source": []
  },
  {
   "cell_type": "code",
   "execution_count": 117,
   "id": "5e9228f3-5cb3-4799-bc1d-58533b574bd2",
   "metadata": {},
   "outputs": [
    {
     "name": "stdout",
     "output_type": "stream",
     "text": [
      "Mitragynine\n",
      "Mitragyna_speciosa_whole\n",
      "7-hydroxy-mitragynine\n",
      "plant anatomical entity\n"
     ]
    },
    {
     "data": {
      "text/plain": [
       "73"
      ]
     },
     "execution_count": 117,
     "metadata": {},
     "output_type": "execute_result"
    }
   ],
   "source": [
    "ktn = nx.neighbors(nx_graph, kratom)\n",
    "kratom_list = []\n",
    "for item in ktn:\n",
    "    print(nodeLabels[str(item)])\n",
    "    ktn_list = get_neighbors(nx_graph, item)\n",
    "    kratom_list.extend(ktn_list)\n",
    "len(kratom_list)"
   ]
  },
  {
   "cell_type": "code",
   "execution_count": 118,
   "id": "89cdb205-8735-4056-b724-51d89eddb31f",
   "metadata": {},
   "outputs": [],
   "source": [
    "rels = []\n",
    "kratom_data = {\n",
    "'Mitragynine': [],\n",
    "'7-hydroxy-mitragynine': []\n",
    "}\n",
    "for item in kratom_list:\n",
    "    if item[1] not in rels:\n",
    "        rels.append(item[1])\n",
    "    if item[0] in kratom_data:\n",
    "        kratom_data[item[0]].append(item)"
   ]
  },
  {
   "cell_type": "code",
   "execution_count": 119,
   "id": "2036ce6b-d3d7-4668-ba9f-8a8bde930113",
   "metadata": {},
   "outputs": [
    {
     "name": "stdout",
     "output_type": "stream",
     "text": [
      "Mitragynine\n",
      "66\n",
      "7-hydroxy-mitragynine\n",
      "3\n"
     ]
    }
   ],
   "source": [
    "for key in kratom_data:\n",
    "    print(key)\n",
    "    print(len(kratom_data[key]))"
   ]
  },
  {
   "cell_type": "code",
   "execution_count": 120,
   "id": "4601a113-fdb6-4fcf-befa-88565ec888c0",
   "metadata": {},
   "outputs": [
    {
     "name": "stdout",
     "output_type": "stream",
     "text": [
      "['subClassOf', 'interacts with', 'directly negatively regulates activity of', 'is substance that treats', 'IncreaseAmount', 'molecularly interacts with', 'negatively regulates']\n"
     ]
    }
   ],
   "source": [
    "mitrel = []\n",
    "for item in kratom_data['Mitragynine']:\n",
    "    if item[1] not in mitrel:\n",
    "        mitrel.append(item[1])\n",
    "print(mitrel)"
   ]
  },
  {
   "cell_type": "code",
   "execution_count": 122,
   "id": "8124546e-7d4e-4881-8cdc-98b906399f20",
   "metadata": {},
   "outputs": [],
   "source": [
    "mitd = {\n",
    "    'interacts with': [],\n",
    "    'subClassOf': [], \n",
    "    'is substance that treats': [],\n",
    "    'molecularly interacts with': [],\n",
    "    'directly negatively regulates activity of': [],\n",
    "    'IncreaseAmount': [],\n",
    "    'negatively regulates': []\n",
    "}\n",
    "for item in kratom_data['Mitragynine']:\n",
    "    if item[1] in mitd:\n",
    "        mitd[item[1]].append(item[2])"
   ]
  },
  {
   "cell_type": "code",
   "execution_count": 130,
   "id": "fd8a0f26-bffc-4962-9efd-113d112499f6",
   "metadata": {},
   "outputs": [
    {
     "data": {
      "text/plain": [
       "['potassium voltage-gated channel subfamily H member 2 (human)',\n",
       " 'glycerol-3-phosphate phosphatase (human)',\n",
       " 'protein',\n",
       " 'prostaglandin G/H synthase 2 (human)',\n",
       " 'ATP-dependent translocase ABCB1 (human)']"
      ]
     },
     "execution_count": 130,
     "metadata": {},
     "output_type": "execute_result"
    }
   ],
   "source": [
    "mitd['negatively regulates']"
   ]
  },
  {
   "cell_type": "code",
   "execution_count": 129,
   "id": "7522085f-df33-454a-a530-99c30c5df023",
   "metadata": {},
   "outputs": [
    {
     "data": {
      "text/plain": [
       "['cytochrome P450 1A2 (human)',\n",
       " 'cytochrome P450 3A4 (human)',\n",
       " 'potassium voltage-gated channel subfamily H member 2 (human)']"
      ]
     },
     "execution_count": 129,
     "metadata": {},
     "output_type": "execute_result"
    }
   ],
   "source": [
    "mitd['IncreaseAmount']"
   ]
  },
  {
   "cell_type": "code",
   "execution_count": null,
   "id": "2d14bf0b-bb77-4e48-bafb-7d7672464ab0",
   "metadata": {},
   "outputs": [],
   "source": []
  },
  {
   "cell_type": "code",
   "execution_count": null,
   "id": "76174c6c-97b5-413d-a4fa-4d79f2a0d5a3",
   "metadata": {},
   "outputs": [],
   "source": []
  },
  {
   "cell_type": "code",
   "execution_count": null,
   "id": "f2710c2f-dd23-4c77-806e-34a90d658ec9",
   "metadata": {},
   "outputs": [],
   "source": [
    "#get neighbors of drugs"
   ]
  },
  {
   "cell_type": "code",
   "execution_count": null,
   "id": "fe8416cd-45ed-4f60-8791-fd854edfd984",
   "metadata": {},
   "outputs": [],
   "source": []
  },
  {
   "cell_type": "code",
   "execution_count": null,
   "id": "6f83c8c9-b9bf-496a-8d7f-9f7788b0d2ab",
   "metadata": {},
   "outputs": [],
   "source": []
  },
  {
   "cell_type": "code",
   "execution_count": null,
   "id": "0aaf2ceb-c968-41db-b2be-503d12fe8f22",
   "metadata": {},
   "outputs": [],
   "source": []
  },
  {
   "cell_type": "code",
   "execution_count": null,
   "id": "77c3e6cb-c9ab-4e32-9768-104ac5d50d0f",
   "metadata": {},
   "outputs": [],
   "source": []
  },
  {
   "cell_type": "code",
   "execution_count": null,
   "id": "423f4fa5-4c61-4f60-8e8e-6c233e88aa3a",
   "metadata": {},
   "outputs": [],
   "source": [
    "#bidirectional shortest paths "
   ]
  },
  {
   "cell_type": "code",
   "execution_count": 40,
   "id": "f161edbe-681c-428e-8a8a-a1a5d1dfa7c7",
   "metadata": {},
   "outputs": [],
   "source": [
    "def get_path_labels(path):\n",
    "    path_labels = []\n",
    "    if len(path) < 1:\n",
    "        print('Path length 1, skipping')\n",
    "        return\n",
    "    for edge in zip(path, path[1:]):\n",
    "        data = nx_graph.get_edge_data(*edge)\n",
    "        pred = list(data.keys())[0]\n",
    "        node1_lab = str(edge[0])\n",
    "        node2_lab = str(edge[1])\n",
    "        if node1_lab in nodeLabels:\n",
    "            node1_lab = nodeLabels[node1_lab]\n",
    "        if node2_lab in nodeLabels:\n",
    "            node2_lab = nodeLabels[node2_lab]\n",
    "        pred_lab = nodeLabels[str(pred)]\n",
    "        if list(data.values())[0]:\n",
    "            if 'source_graph' in list(data.values())[0]:\n",
    "                source_graph = 'machine_read'\n",
    "            else:\n",
    "                source_graph = ''\n",
    "        else:\n",
    "            source_graph = ''\n",
    "        labels = [node1_lab, pred_lab, node2_lab, source_graph]\n",
    "        path_labels.append(labels)\n",
    "    return path_labels"
   ]
  },
  {
   "cell_type": "code",
   "execution_count": 131,
   "id": "06566fe4-bc03-459c-abd4-440e503e3434",
   "metadata": {},
   "outputs": [
    {
     "name": "stdout",
     "output_type": "stream",
     "text": [
      "['Mitragynine', 'interacts with', 'cytochrome P450 3A4 (human)', '']\n"
     ]
    }
   ],
   "source": [
    "pathx = nx.bidirectional_shortest_path(nx_graph, obo.CHEBI_6956, CYP3A4)\n",
    "path_labels = get_path_labels(pathx)\n",
    "for triples in path_labels:\n",
    "    print(triples)"
   ]
  },
  {
   "cell_type": "code",
   "execution_count": null,
   "id": "b7e19848-fc50-4e75-b9fc-bb55d66e36c2",
   "metadata": {},
   "outputs": [],
   "source": []
  }
 ],
 "metadata": {
  "kernelspec": {
   "display_name": "Python 3",
   "language": "python",
   "name": "python3"
  },
  "language_info": {
   "codemirror_mode": {
    "name": "ipython",
    "version": 3
   },
   "file_extension": ".py",
   "mimetype": "text/x-python",
   "name": "python",
   "nbconvert_exporter": "python",
   "pygments_lexer": "ipython3",
   "version": "3.6.13"
  }
 },
 "nbformat": 4,
 "nbformat_minor": 5
}
