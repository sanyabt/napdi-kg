{
 "cells": [
  {
   "cell_type": "code",
   "execution_count": 1,
   "id": "domestic-franchise",
   "metadata": {},
   "outputs": [],
   "source": [
    "import pandas as pd\n",
    "import numpy as np"
   ]
  },
  {
   "cell_type": "code",
   "execution_count": 2,
   "id": "intelligent-shopper",
   "metadata": {},
   "outputs": [],
   "source": [
    "df = pd.read_csv('../resources/processed_data/unprocessed_data/staging_combined_202108131316.tsv', sep='\\t')"
   ]
  },
  {
   "cell_type": "code",
   "execution_count": 3,
   "id": "auburn-vacation",
   "metadata": {},
   "outputs": [
    {
     "name": "stdout",
     "output_type": "stream",
     "text": [
      "<class 'pandas.core.frame.DataFrame'>\n",
      "RangeIndex: 2167 entries, 0 to 2166\n",
      "Data columns (total 13 columns):\n",
      " #   Column          Non-Null Count  Dtype  \n",
      "---  ------          --------------  -----  \n",
      " 0   id              2167 non-null   int64  \n",
      " 1   chemical_id     2167 non-null   object \n",
      " 2   chemical_name   2167 non-null   object \n",
      " 3   protein_id      2164 non-null   object \n",
      " 4   protein_name    2167 non-null   object \n",
      " 5   relation_name   2167 non-null   object \n",
      " 6   relation_id     2167 non-null   object \n",
      " 7   source          2167 non-null   object \n",
      " 8   dikb_id         437 non-null    float64\n",
      " 9   fda_id          878 non-null    float64\n",
      " 10  drugcentral_id  852 non-null    float64\n",
      " 11  reference       2080 non-null   object \n",
      " 12  year            2167 non-null   int64  \n",
      "dtypes: float64(3), int64(2), object(8)\n",
      "memory usage: 220.2+ KB\n"
     ]
    }
   ],
   "source": [
    "df.info()"
   ]
  },
  {
   "cell_type": "code",
   "execution_count": 4,
   "id": "imposed-thread",
   "metadata": {},
   "outputs": [
    {
     "data": {
      "text/html": [
       "<div>\n",
       "<style scoped>\n",
       "    .dataframe tbody tr th:only-of-type {\n",
       "        vertical-align: middle;\n",
       "    }\n",
       "\n",
       "    .dataframe tbody tr th {\n",
       "        vertical-align: top;\n",
       "    }\n",
       "\n",
       "    .dataframe thead th {\n",
       "        text-align: right;\n",
       "    }\n",
       "</style>\n",
       "<table border=\"1\" class=\"dataframe\">\n",
       "  <thead>\n",
       "    <tr style=\"text-align: right;\">\n",
       "      <th></th>\n",
       "      <th>id</th>\n",
       "      <th>chemical_id</th>\n",
       "      <th>chemical_name</th>\n",
       "      <th>protein_id</th>\n",
       "      <th>protein_name</th>\n",
       "      <th>relation_name</th>\n",
       "      <th>relation_id</th>\n",
       "      <th>source</th>\n",
       "      <th>dikb_id</th>\n",
       "      <th>fda_id</th>\n",
       "      <th>drugcentral_id</th>\n",
       "      <th>reference</th>\n",
       "      <th>year</th>\n",
       "    </tr>\n",
       "  </thead>\n",
       "  <tbody>\n",
       "    <tr>\n",
       "      <th>0</th>\n",
       "      <td>1</td>\n",
       "      <td>CHEBI_8871</td>\n",
       "      <td>risperidone</td>\n",
       "      <td>PR_P08684</td>\n",
       "      <td>cyp3a4</td>\n",
       "      <td>is_substrate_of</td>\n",
       "      <td>DIDEO_00000041</td>\n",
       "      <td>dikb</td>\n",
       "      <td>146.0</td>\n",
       "      <td>NaN</td>\n",
       "      <td>NaN</td>\n",
       "      <td>http://www.ncbi.nlm.nih.gov/pubmed/10048600</td>\n",
       "      <td>2017</td>\n",
       "    </tr>\n",
       "    <tr>\n",
       "      <th>1</th>\n",
       "      <td>2</td>\n",
       "      <td>CHEBI_44032</td>\n",
       "      <td>indinavir</td>\n",
       "      <td>PR_P08684</td>\n",
       "      <td>cyp3a4</td>\n",
       "      <td>inhibits</td>\n",
       "      <td>RO_0002449</td>\n",
       "      <td>dikb</td>\n",
       "      <td>474.0</td>\n",
       "      <td>NaN</td>\n",
       "      <td>NaN</td>\n",
       "      <td>http://dbmi-icode-01.dbmi.pitt.edu/linkedSPLs/...</td>\n",
       "      <td>2017</td>\n",
       "    </tr>\n",
       "    <tr>\n",
       "      <th>2</th>\n",
       "      <td>3</td>\n",
       "      <td>CHEBI_9927</td>\n",
       "      <td>valsartan</td>\n",
       "      <td>PR_Q9Y6L6</td>\n",
       "      <td>oatp1b1</td>\n",
       "      <td>is_substrate_of</td>\n",
       "      <td>DIDEO_00000041</td>\n",
       "      <td>dikb</td>\n",
       "      <td>54.0</td>\n",
       "      <td>NaN</td>\n",
       "      <td>NaN</td>\n",
       "      <td>http://www.fda.gov/downloads/drugs/guidancecom...</td>\n",
       "      <td>2017</td>\n",
       "    </tr>\n",
       "    <tr>\n",
       "      <th>3</th>\n",
       "      <td>4</td>\n",
       "      <td>CHEBI_87681</td>\n",
       "      <td>ranolazine</td>\n",
       "      <td>PR_Q14242</td>\n",
       "      <td>p-glycoprotein</td>\n",
       "      <td>inhibits</td>\n",
       "      <td>RO_0002449</td>\n",
       "      <td>dikb</td>\n",
       "      <td>544.0</td>\n",
       "      <td>NaN</td>\n",
       "      <td>NaN</td>\n",
       "      <td>http://www.fda.gov/downloads/drugs/guidancecom...</td>\n",
       "      <td>2017</td>\n",
       "    </tr>\n",
       "    <tr>\n",
       "      <th>4</th>\n",
       "      <td>5</td>\n",
       "      <td>CHEBI_5138</td>\n",
       "      <td>fluvoxamine</td>\n",
       "      <td>PR_P08684</td>\n",
       "      <td>cyp3a4</td>\n",
       "      <td>inhibits</td>\n",
       "      <td>RO_0002449</td>\n",
       "      <td>dikb</td>\n",
       "      <td>500.0</td>\n",
       "      <td>NaN</td>\n",
       "      <td>NaN</td>\n",
       "      <td>http://www.fda.gov/downloads/drugs/guidancecom...</td>\n",
       "      <td>2017</td>\n",
       "    </tr>\n",
       "  </tbody>\n",
       "</table>\n",
       "</div>"
      ],
      "text/plain": [
       "   id  chemical_id chemical_name protein_id    protein_name    relation_name  \\\n",
       "0   1   CHEBI_8871   risperidone  PR_P08684          cyp3a4  is_substrate_of   \n",
       "1   2  CHEBI_44032     indinavir  PR_P08684          cyp3a4         inhibits   \n",
       "2   3   CHEBI_9927     valsartan  PR_Q9Y6L6         oatp1b1  is_substrate_of   \n",
       "3   4  CHEBI_87681    ranolazine  PR_Q14242  p-glycoprotein         inhibits   \n",
       "4   5   CHEBI_5138   fluvoxamine  PR_P08684          cyp3a4         inhibits   \n",
       "\n",
       "      relation_id source  dikb_id  fda_id  drugcentral_id  \\\n",
       "0  DIDEO_00000041   dikb    146.0     NaN             NaN   \n",
       "1      RO_0002449   dikb    474.0     NaN             NaN   \n",
       "2  DIDEO_00000041   dikb     54.0     NaN             NaN   \n",
       "3      RO_0002449   dikb    544.0     NaN             NaN   \n",
       "4      RO_0002449   dikb    500.0     NaN             NaN   \n",
       "\n",
       "                                           reference  year  \n",
       "0        http://www.ncbi.nlm.nih.gov/pubmed/10048600  2017  \n",
       "1  http://dbmi-icode-01.dbmi.pitt.edu/linkedSPLs/...  2017  \n",
       "2  http://www.fda.gov/downloads/drugs/guidancecom...  2017  \n",
       "3  http://www.fda.gov/downloads/drugs/guidancecom...  2017  \n",
       "4  http://www.fda.gov/downloads/drugs/guidancecom...  2017  "
      ]
     },
     "execution_count": 4,
     "metadata": {},
     "output_type": "execute_result"
    }
   ],
   "source": [
    "df.head()"
   ]
  },
  {
   "cell_type": "code",
   "execution_count": 5,
   "id": "proved-liabilities",
   "metadata": {},
   "outputs": [],
   "source": [
    "df = df.dropna(subset=['chemical_id', 'protein_id'])"
   ]
  },
  {
   "cell_type": "code",
   "execution_count": 6,
   "id": "informed-brooks",
   "metadata": {},
   "outputs": [
    {
     "name": "stdout",
     "output_type": "stream",
     "text": [
      "<class 'pandas.core.frame.DataFrame'>\n",
      "Int64Index: 2164 entries, 0 to 2166\n",
      "Data columns (total 13 columns):\n",
      " #   Column          Non-Null Count  Dtype  \n",
      "---  ------          --------------  -----  \n",
      " 0   id              2164 non-null   int64  \n",
      " 1   chemical_id     2164 non-null   object \n",
      " 2   chemical_name   2164 non-null   object \n",
      " 3   protein_id      2164 non-null   object \n",
      " 4   protein_name    2164 non-null   object \n",
      " 5   relation_name   2164 non-null   object \n",
      " 6   relation_id     2164 non-null   object \n",
      " 7   source          2164 non-null   object \n",
      " 8   dikb_id         437 non-null    float64\n",
      " 9   fda_id          875 non-null    float64\n",
      " 10  drugcentral_id  852 non-null    float64\n",
      " 11  reference       2077 non-null   object \n",
      " 12  year            2164 non-null   int64  \n",
      "dtypes: float64(3), int64(2), object(8)\n",
      "memory usage: 236.7+ KB\n"
     ]
    }
   ],
   "source": [
    "df.info()"
   ]
  },
  {
   "cell_type": "code",
   "execution_count": 7,
   "id": "continuous-mongolia",
   "metadata": {},
   "outputs": [],
   "source": [
    "transport = df.loc[df['relation_id'] == 'RO_0002020']"
   ]
  },
  {
   "cell_type": "code",
   "execution_count": 8,
   "id": "activated-triangle",
   "metadata": {},
   "outputs": [],
   "source": [
    "inhibitor = df.loc[df['relation_id'] == 'RO_0002449']\n",
    "molecule = df.loc[df['relation_id'] == 'RO_0002436']\n",
    "substrate = df.loc[df['relation_id'] == 'DIDEO_00000041']"
   ]
  },
  {
   "cell_type": "code",
   "execution_count": 9,
   "id": "familiar-victoria",
   "metadata": {},
   "outputs": [
    {
     "data": {
      "text/plain": [
       "Index(['id', 'chemical_id', 'chemical_name', 'protein_id', 'protein_name',\n",
       "       'relation_name', 'relation_id', 'source', 'dikb_id', 'fda_id',\n",
       "       'drugcentral_id', 'reference', 'year'],\n",
       "      dtype='object')"
      ]
     },
     "execution_count": 9,
     "metadata": {},
     "output_type": "execute_result"
    }
   ],
   "source": [
    "df.columns"
   ]
  },
  {
   "cell_type": "code",
   "execution_count": 10,
   "id": "adapted-proposal",
   "metadata": {},
   "outputs": [],
   "source": [
    "transport = transport.drop(['id', 'chemical_name', 'protein_name',\n",
    "       'relation_name', 'relation_id', 'dikb_id', 'fda_id', 'source',\n",
    "       'drugcentral_id', 'reference', 'year'], axis=1)"
   ]
  },
  {
   "cell_type": "code",
   "execution_count": 11,
   "id": "common-centre",
   "metadata": {},
   "outputs": [],
   "source": [
    "inhibitor = inhibitor.drop(['id', 'chemical_name', 'protein_name',\n",
    "       'relation_name', 'relation_id', 'dikb_id', 'fda_id', 'source',\n",
    "       'drugcentral_id', 'reference', 'year'], axis=1)\n",
    "molecule = molecule.drop(['id', 'chemical_name', 'protein_name',\n",
    "       'relation_name', 'relation_id', 'dikb_id', 'fda_id', 'source',\n",
    "       'drugcentral_id', 'reference', 'year'], axis=1)\n",
    "substrate = substrate.drop(['id', 'chemical_name', 'protein_name',\n",
    "       'relation_name', 'relation_id', 'dikb_id', 'fda_id', 'source',\n",
    "       'drugcentral_id', 'reference', 'year'], axis=1)"
   ]
  },
  {
   "cell_type": "code",
   "execution_count": 12,
   "id": "prescription-seventh",
   "metadata": {},
   "outputs": [
    {
     "data": {
      "text/html": [
       "<div>\n",
       "<style scoped>\n",
       "    .dataframe tbody tr th:only-of-type {\n",
       "        vertical-align: middle;\n",
       "    }\n",
       "\n",
       "    .dataframe tbody tr th {\n",
       "        vertical-align: top;\n",
       "    }\n",
       "\n",
       "    .dataframe thead th {\n",
       "        text-align: right;\n",
       "    }\n",
       "</style>\n",
       "<table border=\"1\" class=\"dataframe\">\n",
       "  <thead>\n",
       "    <tr style=\"text-align: right;\">\n",
       "      <th></th>\n",
       "      <th>chemical_id</th>\n",
       "      <th>protein_id</th>\n",
       "    </tr>\n",
       "  </thead>\n",
       "  <tbody>\n",
       "    <tr>\n",
       "      <th>0</th>\n",
       "      <td>CHEBI_51141</td>\n",
       "      <td>PR_Q14242</td>\n",
       "    </tr>\n",
       "    <tr>\n",
       "      <th>1</th>\n",
       "      <td>CHEBI_39112</td>\n",
       "      <td>PR_Q14242</td>\n",
       "    </tr>\n",
       "    <tr>\n",
       "      <th>2</th>\n",
       "      <td>CHEBI_71272</td>\n",
       "      <td>PR_Q14242</td>\n",
       "    </tr>\n",
       "    <tr>\n",
       "      <th>3</th>\n",
       "      <td>CHEBI_5050</td>\n",
       "      <td>PR_Q86VL8</td>\n",
       "    </tr>\n",
       "    <tr>\n",
       "      <th>4</th>\n",
       "      <td>CHEBI_5050</td>\n",
       "      <td>PR_Q86VL8</td>\n",
       "    </tr>\n",
       "  </tbody>\n",
       "</table>\n",
       "</div>"
      ],
      "text/plain": [
       "   chemical_id protein_id\n",
       "0  CHEBI_51141  PR_Q14242\n",
       "1  CHEBI_39112  PR_Q14242\n",
       "2  CHEBI_71272  PR_Q14242\n",
       "3   CHEBI_5050  PR_Q86VL8\n",
       "4   CHEBI_5050  PR_Q86VL8"
      ]
     },
     "execution_count": 12,
     "metadata": {},
     "output_type": "execute_result"
    }
   ],
   "source": [
    "transport = transport.reset_index(drop=True)\n",
    "transport.head()"
   ]
  },
  {
   "cell_type": "code",
   "execution_count": 13,
   "id": "interracial-bulgarian",
   "metadata": {},
   "outputs": [],
   "source": [
    "inhibitor = inhibitor.reset_index(drop=True)\n",
    "molecule = molecule.reset_index(drop=True)\n",
    "substrate = substrate.reset_index(drop=True)\n"
   ]
  },
  {
   "cell_type": "code",
   "execution_count": 14,
   "id": "bronze-month",
   "metadata": {},
   "outputs": [],
   "source": [
    "transport = transport.drop_duplicates()\n",
    "inhibitor = inhibitor.drop_duplicates()\n",
    "substrate = substrate.drop_duplicates()\n",
    "molecule = molecule.drop_duplicates()"
   ]
  },
  {
   "cell_type": "code",
   "execution_count": 15,
   "id": "statistical-philip",
   "metadata": {},
   "outputs": [],
   "source": [
    "processed_data_loc = '../resources/processed_data/'"
   ]
  },
  {
   "cell_type": "code",
   "execution_count": 16,
   "id": "nuclear-gibson",
   "metadata": {},
   "outputs": [],
   "source": [
    "transport.to_csv(processed_data_loc + 'CHEMICAL_TRANSPORTER.tsv', header=None, sep='\\t', index=False)\n",
    "inhibitor.to_csv(processed_data_loc + 'CHEMICAL_INHIBITOR.tsv', header=None, sep='\\t', index=False)\n",
    "molecule.to_csv(processed_data_loc + 'CHEMICAL_MOLECULE.tsv', header=None, sep='\\t', index=False)\n",
    "substrate.to_csv(processed_data_loc + 'CHEMICAL_SUBSTRATE.tsv', header=None, sep='\\t', index=False)"
   ]
  },
  {
   "cell_type": "code",
   "execution_count": null,
   "id": "sharing-paste",
   "metadata": {},
   "outputs": [],
   "source": []
  }
 ],
 "metadata": {
  "kernelspec": {
   "display_name": "Python 3",
   "language": "python",
   "name": "python3"
  },
  "language_info": {
   "codemirror_mode": {
    "name": "ipython",
    "version": 3
   },
   "file_extension": ".py",
   "mimetype": "text/x-python",
   "name": "python",
   "nbconvert_exporter": "python",
   "pygments_lexer": "ipython3",
   "version": "3.6.13"
  }
 },
 "nbformat": 4,
 "nbformat_minor": 5
}
